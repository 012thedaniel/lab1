{
 "cells": [
  {
   "cell_type": "markdown",
   "id": "3e4bb12f6e7558a1",
   "metadata": {
    "collapsed": false,
    "jupyter": {
     "outputs_hidden": false
    }
   },
   "source": [
    "# Reading csv file and creating data frame out of it"
   ]
  },
  {
   "cell_type": "code",
   "execution_count": 5,
   "id": "initial_id",
   "metadata": {
    "ExecuteTime": {
     "end_time": "2024-02-24T18:34:24.471782Z",
     "start_time": "2024-02-24T18:34:24.437294Z"
    },
    "collapsed": true,
    "jupyter": {
     "outputs_hidden": true
    }
   },
   "outputs": [
    {
     "name": "stdout",
     "output_type": "stream",
     "text": [
      "                            track_name    artist(s)_name  artist_count  \\\n",
      "0  Seven (feat. Latto) (Explicit Ver.)  Latto, Jung Kook             2   \n",
      "1                                 LALA       Myke Towers             1   \n",
      "2                              vampire    Olivia Rodrigo             1   \n",
      "\n",
      "   released_year  released_month  released_day  in_spotify_playlists  \\\n",
      "0           2023               7            14                   553   \n",
      "1           2023               3            23                  1474   \n",
      "2           2023               6            30                  1397   \n",
      "\n",
      "   in_spotify_charts    streams  in_apple_playlists  ...  bpm key   mode  \\\n",
      "0                147  141381703                  43  ...  125   B  Major   \n",
      "1                 48  133716286                  48  ...   92  C#  Major   \n",
      "2                113  140003974                  94  ...  138   F  Major   \n",
      "\n",
      "  danceability_%  valence_% energy_% acousticness_%  instrumentalness_%  \\\n",
      "0             80         89       83             31                   0   \n",
      "1             71         61       74              7                   0   \n",
      "2             51         32       53             17                   0   \n",
      "\n",
      "   liveness_%  speechiness_%  \n",
      "0           8              4  \n",
      "1          10              4  \n",
      "2          31              6  \n",
      "\n",
      "[3 rows x 24 columns]\n"
     ]
    }
   ],
   "source": [
    "import pandas as pd\n",
    "\n",
    "df = pd.read_csv('spotify2023.csv', encoding='latin-1')\n",
    "\n",
    "print(df.head(3))"
   ]
  }
 ],
 "metadata": {
  "kernelspec": {
   "display_name": "Python 3 (ipykernel)",
   "language": "python",
   "name": "python3"
  },
  "language_info": {
   "codemirror_mode": {
    "name": "ipython",
    "version": 3
   },
   "file_extension": ".py",
   "mimetype": "text/x-python",
   "name": "python",
   "nbconvert_exporter": "python",
   "pygments_lexer": "ipython3",
   "version": "3.12.0"
  }
 },
 "nbformat": 4,
 "nbformat_minor": 5
}
